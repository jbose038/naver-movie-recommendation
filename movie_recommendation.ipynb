{
 "cells": [
  {
   "cell_type": "markdown",
   "metadata": {},
   "source": [
    "##  장르 및 줄거리 내 키워드 유사도 기반 영화 추천"
   ]
  },
  {
   "cell_type": "code",
   "execution_count": 1,
   "metadata": {},
   "outputs": [],
   "source": [
    "import warnings\n",
    "warnings.filterwarnings('ignore')\n",
    "\n",
    "import pandas as pd\n",
    "import numpy as np"
   ]
  },
  {
   "cell_type": "code",
   "execution_count": 2,
   "metadata": {},
   "outputs": [],
   "source": [
    "movies = pd.read_csv('./dataset/merged.csv')"
   ]
  },
  {
   "cell_type": "code",
   "execution_count": 3,
   "metadata": {
    "scrolled": true
   },
   "outputs": [
    {
     "name": "stdout",
     "output_type": "stream",
     "text": [
      "(10255, 12)\n"
     ]
    }
   ],
   "source": [
    "print(movies.shape)"
   ]
  },
  {
   "cell_type": "code",
   "execution_count": 7,
   "metadata": {},
   "outputs": [
    {
     "name": "stdout",
     "output_type": "stream",
     "text": [
      "7.187 173.0\n"
     ]
    }
   ],
   "source": [
    "c = movies['rating'].mean()\n",
    "m = movies['vote_count'].quantile(.6)\n",
    "print(round(c,3), round(m,3))\n",
    "\n",
    "def weighted_vote_average(record):\n",
    "    v, r = record['vote_count'], record['rating']\n",
    "    return (v/(v+m))*r + (m/(m+v))*c\n",
    "\n",
    "movies['weighted_vote'] = movies.apply(weighted_vote_average,axis=1)"
   ]
  },
  {
   "cell_type": "code",
   "execution_count": 4,
   "metadata": {},
   "outputs": [],
   "source": [
    "from gensim.models import word2vec\n",
    "from tqdm.autonotebook import tqdm\n",
    "from sklearn.feature_extraction.text import CountVectorizer\n",
    "from sklearn.metrics.pairwise import cosine_similarity\n",
    "from sklearn.preprocessing import MinMaxScaler\n",
    "import ast\n",
    "\n",
    "class movie_recommendation:\n",
    "    def __init__(self, **kargs):\n",
    "        self.title = kargs.get('title', '포드 V 페라리') # (default) movie title\n",
    "        self.topn = kargs.get('topn', 300) # (default) optimal value so far\n",
    "        self.thres = kargs.get('thres', 0.73) # (default) optimal value so far\n",
    "        self.df = kargs.get('data', pd.read_csv('./dataset/merged.csv')) # (default) movie dataframe\n",
    "        \n",
    "        self.cvec = CountVectorizer(min_df=0, ngram_range=(1,2))\n",
    "        self.w2v = word2vec.Word2Vec.load('./model/naver_plot_kmr_min10_N_only.model')\n",
    "        self.scaler = MinMaxScaler()\n",
    "        \n",
    "        assert self.df[self.df['title'] == self.title].shape[0] == 1\n",
    "        \n",
    "    def genre_sim_sorted(self):\n",
    "        self.df['genre_literal'] = self.df['genre'].apply(lambda x: x.replace('|',' '))\n",
    "        genre = self.cvec.fit_transform(self.df['genre_literal'])\n",
    "        genre_sim = cosine_similarity(genre,genre)\n",
    "        return genre_sim.argsort()[:,::-1]\n",
    "        \n",
    "    def similar_genre_movies(self):\n",
    "        title_movie = self.df[self.df['title'] == self.title]\n",
    "        title_idx = title_movie.index.values\n",
    "        sorted_idx = self.genre_sim_sorted()\n",
    "        \n",
    "        similar_idx = self.genre_sim_sorted()[title_idx,:self.topn*2]\n",
    "        similar_idx = similar_idx.reshape(-1)\n",
    "        similar_idx = similar_idx[similar_idx != title_idx]\n",
    "        \n",
    "        return self.df.iloc[similar_idx].sort_values('weighted_vote', ascending=False)[:self.topn]\n",
    "    \n",
    "    def cos_sim(self, corp1, corp2):\n",
    "        vec1, vec2 = [], []\n",
    "        for word1, word2 in zip(corp1,corp2):\n",
    "            vec1.append(self.w2v[word1])\n",
    "            vec2.append(self.w2v[word2])\n",
    "\n",
    "        vec1, vec2 = np.array(vec1).mean(axis=0), np.array(vec2).mean(axis=0)\n",
    "        return np.inner(vec1,vec2) / (np.linalg.norm(vec1)*np.linalg.norm(vec2))\n",
    "\n",
    "    def similar_keywords_movies(self):\n",
    "        self.df['keywords_literal'] = self.df['keywords'].apply(lambda x: ' '.join(ast.literal_eval(x)))\n",
    "        title_movie = self.df[self.df['title'] == self.title]\n",
    "        title_idx = title_movie.index.values\n",
    "\n",
    "        keywords_sims = []\n",
    "        for idx in tqdm(self.df.index, desc=\"Calculating keywords cos_sim\"):\n",
    "            idx_title = self.df[self.df['title'] == self.title].index.values[0]\n",
    "            keywords_src = ast.literal_eval(self.df.loc[idx_title,'keywords'])\n",
    "            keywords_tgt = ast.literal_eval(self.df.loc[idx,'keywords'])\n",
    "            keywords_sims.append((idx,self.cos_sim(keywords_src, keywords_tgt)))\n",
    "\n",
    "        df_with_ksim = self.df.copy()\n",
    "        df_with_ksim['keywords_sim'] = np.array(keywords_sims)[:,1]\n",
    "        df_with_ksim = df_with_ksim[df_with_ksim['keywords_sim'] >= self.thres]\n",
    "        \n",
    "        print('# of similar keywords movies with thres(%.3f) :'%(self.thres), df_with_ksim.shape[0]-1)\n",
    "        return df_with_ksim.sort_values('keywords_sim',ascending=False)[1:]\n",
    "    \n",
    "    def getMovies(self):\n",
    "        genre_similar_movies, keywords_similar_movies = self.similar_genre_movies(), self.similar_keywords_movies()\n",
    "        print('genre shape : ',genre_similar_movies.shape)\n",
    "        print('keywords shape : ',keywords_similar_movies.shape)\n",
    "        \n",
    "        result_movies = genre_similar_movies.copy()\n",
    "        for col in set(keywords_similar_movies.columns) - set(genre_similar_movies.columns):\n",
    "            result_movies[col] = keywords_similar_movies[col]\n",
    "        \n",
    "        votes, sims = result_movies['weighted_vote'].values, result_movies['keywords_sim'].values\n",
    "        votes_minmax, sims_minmax = self.scaler.fit_transform(votes.reshape(-1,1)), self.scaler.fit_transform(sims.reshape(-1,1))\n",
    "        \n",
    "        weighted_sum = 0.6*votes_minmax + 0.4*sims_minmax\n",
    "        result_movies['weighted_sum'] = weighted_sum\n",
    "        \n",
    "        return result_movies.sort_values('weighted_sum',ascending=False).dropna()"
   ]
  },
  {
   "cell_type": "code",
   "execution_count": 8,
   "metadata": {},
   "outputs": [],
   "source": [
    "recom = movie_recommendation(title='아이언맨 2', data=movies)"
   ]
  },
  {
   "cell_type": "code",
   "execution_count": 9,
   "metadata": {
    "scrolled": true
   },
   "outputs": [
    {
     "name": "stdout",
     "output_type": "stream",
     "text": [
      "\n",
      "# of similar keywords movies with thres(0.730) : 237\n",
      "genre shape :  (300, 14)\n",
      "keywords shape :  (237, 16)\n"
     ]
    }
   ],
   "source": [
    "result = recom.getMovies()"
   ]
  },
  {
   "cell_type": "code",
   "execution_count": 91,
   "metadata": {
    "scrolled": true
   },
   "outputs": [
    {
     "data": {
      "text/html": [
       "<div>\n",
       "<style scoped>\n",
       "    .dataframe tbody tr th:only-of-type {\n",
       "        vertical-align: middle;\n",
       "    }\n",
       "\n",
       "    .dataframe tbody tr th {\n",
       "        vertical-align: top;\n",
       "    }\n",
       "\n",
       "    .dataframe thead th {\n",
       "        text-align: right;\n",
       "    }\n",
       "</style>\n",
       "<table border=\"1\" class=\"dataframe\">\n",
       "  <thead>\n",
       "    <tr style=\"text-align: right;\">\n",
       "      <th></th>\n",
       "      <th>weighted_sum</th>\n",
       "      <th>title</th>\n",
       "      <th>weighted_vote</th>\n",
       "      <th>keywords_literal</th>\n",
       "      <th>keywords_sim</th>\n",
       "    </tr>\n",
       "  </thead>\n",
       "  <tbody>\n",
       "    <tr>\n",
       "      <th>5756</th>\n",
       "      <td>0.781168</td>\n",
       "      <td>영웅: 샐러멘더의 비밀</td>\n",
       "      <td>9.256764</td>\n",
       "      <td>사장 연구 과학자 소식 시설 미국 세포 재생 기능 신약</td>\n",
       "      <td>0.785646</td>\n",
       "    </tr>\n",
       "    <tr>\n",
       "      <th>9718</th>\n",
       "      <td>0.665974</td>\n",
       "      <td>레지던트 이블</td>\n",
       "      <td>8.498304</td>\n",
       "      <td>컴퓨터 레드 슈퍼 정치 유전자 미국 치명 시작 연구소 세계</td>\n",
       "      <td>0.807803</td>\n",
       "    </tr>\n",
       "    <tr>\n",
       "      <th>2680</th>\n",
       "      <td>0.652643</td>\n",
       "      <td>로그 원: 스타워즈 스토리</td>\n",
       "      <td>8.420972</td>\n",
       "      <td>병기 개발 적의 최종 아버지 희망 세상 존스 참여 약점</td>\n",
       "      <td>0.809647</td>\n",
       "    </tr>\n",
       "    <tr>\n",
       "      <th>4850</th>\n",
       "      <td>0.619991</td>\n",
       "      <td>엣지 오브 투모로우</td>\n",
       "      <td>8.921952</td>\n",
       "      <td>침략 인류 전투 작전 참여 멸망 외계 종족 위기 훈련</td>\n",
       "      <td>0.766547</td>\n",
       "    </tr>\n",
       "    <tr>\n",
       "      <th>5693</th>\n",
       "      <td>0.589424</td>\n",
       "      <td>아이언맨 3</td>\n",
       "      <td>8.841481</td>\n",
       "      <td>영웅 트리 미스 스타크 저택 집단 사건 트라우마 회의 수트</td>\n",
       "      <td>0.764096</td>\n",
       "    </tr>\n",
       "    <tr>\n",
       "      <th>9399</th>\n",
       "      <td>0.583191</td>\n",
       "      <td>인크레더블</td>\n",
       "      <td>9.154703</td>\n",
       "      <td>영웅 타진 슈퍼히어로 세계 최강 정체 불명 비밀 작전 무리</td>\n",
       "      <td>0.740862</td>\n",
       "    </tr>\n",
       "    <tr>\n",
       "      <th>1812</th>\n",
       "      <td>0.524244</td>\n",
       "      <td>레지던트 이블: 파멸의 날</td>\n",
       "      <td>8.339219</td>\n",
       "      <td>전사 개발 폐허 인류 유일한 희망 바이러스 세계 백신 치명</td>\n",
       "      <td>0.781675</td>\n",
       "    </tr>\n",
       "    <tr>\n",
       "      <th>9626</th>\n",
       "      <td>0.497429</td>\n",
       "      <td>이퀼리브리엄</td>\n",
       "      <td>8.740591</td>\n",
       "      <td>요원 수호 제거 임무 정부 통제 약물 국민 세계 감정</td>\n",
       "      <td>0.746973</td>\n",
       "    </tr>\n",
       "    <tr>\n",
       "      <th>4841</th>\n",
       "      <td>0.495834</td>\n",
       "      <td>엑스맨: 데이즈 오브 퓨처 패스트</td>\n",
       "      <td>8.859445</td>\n",
       "      <td>로봇 위기 사상 인류 위협 직면 발명 최악 돌연변이 전쟁</td>\n",
       "      <td>0.738359</td>\n",
       "    </tr>\n",
       "    <tr>\n",
       "      <th>10173</th>\n",
       "      <td>0.490501</td>\n",
       "      <td>엑스맨</td>\n",
       "      <td>7.900968</td>\n",
       "      <td>변종 인간 교수 인류 스톰 사활 에릭 사상 최강 사이 자비 마음 능력</td>\n",
       "      <td>0.803068</td>\n",
       "    </tr>\n",
       "  </tbody>\n",
       "</table>\n",
       "</div>"
      ],
      "text/plain": [
       "       weighted_sum               title  weighted_vote  \\\n",
       "5756       0.781168        영웅: 샐러멘더의 비밀       9.256764   \n",
       "9718       0.665974             레지던트 이블       8.498304   \n",
       "2680       0.652643      로그 원: 스타워즈 스토리       8.420972   \n",
       "4850       0.619991          엣지 오브 투모로우       8.921952   \n",
       "5693       0.589424              아이언맨 3       8.841481   \n",
       "9399       0.583191               인크레더블       9.154703   \n",
       "1812       0.524244      레지던트 이블: 파멸의 날       8.339219   \n",
       "9626       0.497429              이퀼리브리엄       8.740591   \n",
       "4841       0.495834  엑스맨: 데이즈 오브 퓨처 패스트       8.859445   \n",
       "10173      0.490501                 엑스맨       7.900968   \n",
       "\n",
       "                             keywords_literal  keywords_sim  \n",
       "5756           사장 연구 과학자 소식 시설 미국 세포 재생 기능 신약      0.785646  \n",
       "9718         컴퓨터 레드 슈퍼 정치 유전자 미국 치명 시작 연구소 세계      0.807803  \n",
       "2680           병기 개발 적의 최종 아버지 희망 세상 존스 참여 약점      0.809647  \n",
       "4850            침략 인류 전투 작전 참여 멸망 외계 종족 위기 훈련      0.766547  \n",
       "5693         영웅 트리 미스 스타크 저택 집단 사건 트라우마 회의 수트      0.764096  \n",
       "9399         영웅 타진 슈퍼히어로 세계 최강 정체 불명 비밀 작전 무리      0.740862  \n",
       "1812         전사 개발 폐허 인류 유일한 희망 바이러스 세계 백신 치명      0.781675  \n",
       "9626            요원 수호 제거 임무 정부 통제 약물 국민 세계 감정      0.746973  \n",
       "4841          로봇 위기 사상 인류 위협 직면 발명 최악 돌연변이 전쟁      0.738359  \n",
       "10173  변종 인간 교수 인류 스톰 사활 에릭 사상 최강 사이 자비 마음 능력      0.803068  "
      ]
     },
     "execution_count": 91,
     "metadata": {},
     "output_type": "execute_result"
    }
   ],
   "source": [
    "result[['weighted_sum','title', 'weighted_vote','keywords_literal','keywords_sim']][:10]"
   ]
  },
  {
   "cell_type": "code",
   "execution_count": null,
   "metadata": {},
   "outputs": [],
   "source": []
  }
 ],
 "metadata": {
  "kernelspec": {
   "display_name": "Python 3",
   "language": "python",
   "name": "python3"
  },
  "language_info": {
   "codemirror_mode": {
    "name": "ipython",
    "version": 3
   },
   "file_extension": ".py",
   "mimetype": "text/x-python",
   "name": "python",
   "nbconvert_exporter": "python",
   "pygments_lexer": "ipython3",
   "version": "3.6.8"
  }
 },
 "nbformat": 4,
 "nbformat_minor": 2
}
